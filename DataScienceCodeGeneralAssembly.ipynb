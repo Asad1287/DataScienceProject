{
 "cells": [
  {
   "cell_type": "code",
   "execution_count": 2,
   "metadata": {
    "colab": {
     "base_uri": "https://localhost:8080/"
    },
    "executionInfo": {
     "elapsed": 304,
     "status": "ok",
     "timestamp": 1622937769877,
     "user": {
      "displayName": "Asad Ali",
      "photoUrl": "",
      "userId": "18153662719245913355"
     },
     "user_tz": -240
    },
    "id": "hlhTttB-aNYK",
    "outputId": "377bd967-c394-466c-f993-db19e5d8d5fc"
   },
   "outputs": [
    {
     "name": "stdout",
     "output_type": "stream",
     "text": [
      "--2021-06-06 00:02:49--  https://gist.githubusercontent.com/jeff-boykin/b5c536467c30d66ab97cd1f5c9a3497d/raw/5233c792af49c9b78f20c35d5cd729e1307a7df7/breast-cancer.csv\n",
      "Resolving gist.githubusercontent.com (gist.githubusercontent.com)... 185.199.108.133, 185.199.109.133, 185.199.110.133, ...\n",
      "Connecting to gist.githubusercontent.com (gist.githubusercontent.com)|185.199.108.133|:443... connected.\n",
      "HTTP request sent, awaiting response... 200 OK\n",
      "Length: 124102 (121K) [text/plain]\n",
      "Saving to: ‘breast_cancer.csv’\n",
      "\n",
      "\r",
      "breast_cancer.csv     0%[                    ]       0  --.-KB/s               \r",
      "breast_cancer.csv   100%[===================>] 121.19K  --.-KB/s    in 0.004s  \n",
      "\n",
      "2021-06-06 00:02:49 (30.4 MB/s) - ‘breast_cancer.csv’ saved [124102/124102]\n",
      "\n"
     ]
    }
   ],
   "source": [
    "#getting data from source\n",
    "!wget -O breast_cancer.csv https://gist.githubusercontent.com/jeff-boykin/b5c536467c30d66ab97cd1f5c9a3497d/raw/5233c792af49c9b78f20c35d5cd729e1307a7df7/breast-cancer.csv\n"
   ]
  },
  {
   "cell_type": "markdown",
   "metadata": {},
   "source": [
    "## GENERAL ASSEMBLY DATA SCIENCE CHALLENGE"
   ]
  },
  {
   "cell_type": "markdown",
   "metadata": {},
   "source": [
    "### Getting data from source using wget"
   ]
  },
  {
   "cell_type": "code",
   "execution_count": 3,
   "metadata": {
    "colab": {
     "base_uri": "https://localhost:8080/"
    },
    "executionInfo": {
     "elapsed": 295,
     "status": "ok",
     "timestamp": 1622937772737,
     "user": {
      "displayName": "Asad Ali",
      "photoUrl": "",
      "userId": "18153662719245913355"
     },
     "user_tz": -240
    },
    "id": "5dA9W1AZ2tyX",
    "outputId": "8c4f7e76-991a-435a-bff3-7b02afd17b9c"
   },
   "outputs": [
    {
     "name": "stdout",
     "output_type": "stream",
     "text": [
      "--2021-06-06 00:02:51--  https://gist.githubusercontent.com/jeff-boykin/b5c536467c30d66ab97cd1f5c9a3497d/raw/5233c792af49c9b78f20c35d5cd729e1307a7df7/field_names.txt\n",
      "Resolving gist.githubusercontent.com (gist.githubusercontent.com)... 185.199.108.133, 185.199.109.133, 185.199.110.133, ...\n",
      "Connecting to gist.githubusercontent.com (gist.githubusercontent.com)|185.199.108.133|:443... connected.\n",
      "HTTP request sent, awaiting response... 200 OK\n",
      "Length: 527 [text/plain]\n",
      "Saving to: ‘header.txt’\n",
      "\n",
      "\r",
      "header.txt            0%[                    ]       0  --.-KB/s               \r",
      "header.txt          100%[===================>]     527  --.-KB/s    in 0s      \n",
      "\n",
      "2021-06-06 00:02:52 (46.4 MB/s) - ‘header.txt’ saved [527/527]\n",
      "\n"
     ]
    }
   ],
   "source": [
    "#getting the headers\n",
    "!wget -O header.txt https://gist.githubusercontent.com/jeff-boykin/b5c536467c30d66ab97cd1f5c9a3497d/raw/5233c792af49c9b78f20c35d5cd729e1307a7df7/field_names.txt"
   ]
  },
  {
   "cell_type": "markdown",
   "metadata": {
    "id": "9uA66hu0YflH"
   },
   "source": [
    "# PART I \n"
   ]
  },
  {
   "cell_type": "markdown",
   "metadata": {},
   "source": [
    "### Preliminaries and data understanding"
   ]
  },
  {
   "cell_type": "markdown",
   "metadata": {
    "id": "tGSEyhAFbtzL"
   },
   "source": [
    "The datsets are loaded from the source folders using wget \n",
    "Since the dataset is small and can be contained in memory, we can simply use pandas to create dataframe and load data into memory. We will add the header file to the pandas dataframe header. Then we will check for the following\n",
    "\n",
    "1. NA check on each columns to confirm any missing data\n",
    "2. Calculations on smothness and compactness of tumours\n",
    "3. Normalize all numerical features\n",
    "4. Split the data into hold-out Validation and training datasets"
   ]
  },
  {
   "cell_type": "code",
   "execution_count": 4,
   "metadata": {
    "colab": {
     "base_uri": "https://localhost:8080/"
    },
    "executionInfo": {
     "elapsed": 306,
     "status": "ok",
     "timestamp": 1622937782625,
     "user": {
      "displayName": "Asad Ali",
      "photoUrl": "",
      "userId": "18153662719245913355"
     },
     "user_tz": -240
    },
    "id": "SELGAGD1cWli",
    "outputId": "7b80fcc1-79b8-4561-8d2a-3d9e98ab33e7"
   },
   "outputs": [
    {
     "name": "stdout",
     "output_type": "stream",
     "text": [
      "The ratio of maligant to benign is 0.5938375350140056\n",
      "the dataset seems to be balanced\n",
      "The median smothness of malignant tumour is  3.6795 whilst for the benign it is 1.851\n",
      "The mean smothness of malignant tumour is  4.323929245283021 whilst for the benign it is 2.0003212885154085\n",
      "The median compactness of malignant tumour is  0.02859 whilst for the benign it is 0.016309999999999998\n",
      "The mean compactness of malignant tumour is  0.03228116509433961 whilst for the benign it is 0.02143824649859945\n"
     ]
    },
    {
     "data": {
      "text/plain": [
       "ID                            0\n",
       "diagnosis                     0\n",
       "radius_mean                   0\n",
       "radius_sd_error               0\n",
       "radius_worst                  0\n",
       "texture_mean                  0\n",
       "texture_sd_error              0\n",
       "texture_worst                 0\n",
       "perimeter_mean                0\n",
       "perimeter_sd_error            0\n",
       "perimeter_worst               0\n",
       "area_mean                     0\n",
       "area_sd_error                 0\n",
       "area_worst                    0\n",
       "smoothness_mean               0\n",
       "smoothness_sd_error           0\n",
       "smoothness_worst              0\n",
       "compactness_mean              0\n",
       "compactness_sd_error          0\n",
       "compactness_worst             0\n",
       "concavity_mean                0\n",
       "concavity_sd_error            0\n",
       "concavity_worst               0\n",
       "concave_points_mean           0\n",
       "concave_points_sd_error       0\n",
       "concave_points_worst          0\n",
       "symmetry_mean                 0\n",
       "symmetry_sd_error             0\n",
       "symmetry_worst                0\n",
       "fractal_dimension_mean        0\n",
       "fractal_dimension_sd_error    0\n",
       "fractal_dimension_worst       0\n",
       "dtype: int64"
      ]
     },
     "execution_count": 4,
     "metadata": {
      "tags": []
     },
     "output_type": "execute_result"
    }
   ],
   "source": [
    "#importing the required libraries\n",
    "import pandas as pd\n",
    "import numpy as np\n",
    "import matplotlib.pyplot as plt\n",
    "\n",
    "%matplotlib inline\n",
    "breast_cancer = pd.read_csv('/content/breast_cancer.csv',header=None)\n",
    "header = pd.read_csv('/content/header.txt',sep=' ',header=None)\n",
    "head=list(np.array(header[0]))\n",
    "\n",
    "\n",
    "breast_cancer.columns =  head\n",
    "breast_cancer.head(10)\n",
    "#ensure there are only two possible tumour categories\n",
    "assert len(breast_cancer['diagnosis'].unique()) == 2\n",
    "breast_cancer['diagnosis'] = breast_cancer['diagnosis'].astype('category')\n",
    "breast_cancer_org = breast_cancer\n",
    "\n",
    "print(f\"The ratio of maligant to benign is {sum(breast_cancer['diagnosis']=='M')/sum(breast_cancer['diagnosis']=='B')}\")\n",
    "print('the dataset seems to be balanced')\n",
    "print(f\"The median smothness of malignant tumour is  {np.median(breast_cancer.smoothness_mean[breast_cancer['diagnosis']=='M'])} whilst for the benign it is {np.median(breast_cancer.smoothness_mean[breast_cancer['diagnosis']=='B'])}\")\n",
    "\n",
    "print(f\"The mean smothness of malignant tumour is  {np.mean(breast_cancer.smoothness_mean[breast_cancer['diagnosis']=='M'])} whilst for the benign it is {np.mean(breast_cancer.smoothness_mean[breast_cancer['diagnosis']=='B'])}\")\n",
    "\n",
    "print(f\"The median compactness of malignant tumour is  {np.median(breast_cancer.compactness_mean[breast_cancer['diagnosis']=='M'])} whilst for the benign it is {np.median(breast_cancer.compactness_mean[breast_cancer['diagnosis']=='B'])}\")\n",
    "\n",
    "print(f\"The mean compactness of malignant tumour is  {np.mean(breast_cancer.compactness_mean[breast_cancer['diagnosis']=='M'])} whilst for the benign it is {np.mean(breast_cancer.compactness_mean[breast_cancer['diagnosis']=='B'])}\")\n",
    "\n",
    "#checking for null values \n",
    "breast_cancer.isnull().sum(axis = 0)\n"
   ]
  },
  {
   "cell_type": "code",
   "execution_count": 267,
   "metadata": {
    "colab": {
     "base_uri": "https://localhost:8080/",
     "height": 425
    },
    "executionInfo": {
     "elapsed": 820,
     "status": "ok",
     "timestamp": 1622934426468,
     "user": {
      "displayName": "Asad Ali",
      "photoUrl": "",
      "userId": "18153662719245913355"
     },
     "user_tz": -240
    },
    "id": "nJO6Xws8udYI",
    "outputId": "07294e3e-e5fb-44c6-fa7f-ab311b1af75b"
   },
   "outputs": [
    {
     "data": {
      "text/plain": [
       "<matplotlib.legend.Legend at 0x7f6280327e50>"
      ]
     },
     "execution_count": 267,
     "metadata": {
      "tags": []
     },
     "output_type": "execute_result"
    },
    {
     "data": {
      "image/png": "[encoded data removed]",
      "text/plain": [
       "<Figure size 576x432 with 1 Axes>"
      ]
     },
     "metadata": {
      "needs_background": "light",
      "tags": []
     },
     "output_type": "display_data"
    }
   ],
   "source": [
    "plt.figure(figsize=(8,6))\n",
    "plt.hist(breast_cancer.smoothness_mean[breast_cancer['diagnosis']=='M'], bins=100, alpha=0.5, label=\"Smothness of Malignant\")\n",
    "plt.hist(breast_cancer.smoothness_mean[breast_cancer['diagnosis']=='B'], bins=100, alpha=0.5, label=\"Smothness of benign\")\n",
    "\n",
    "plt.xlabel(\"Data\", size=14)\n",
    "plt.ylabel(\"Count\", size=14)\n",
    "plt.title(\"Smothness histogram\")\n",
    "plt.legend(loc='upper right')"
   ]
  },
  {
   "cell_type": "code",
   "execution_count": 268,
   "metadata": {
    "executionInfo": {
     "elapsed": 302,
     "status": "ok",
     "timestamp": 1622934429641,
     "user": {
      "displayName": "Asad Ali",
      "photoUrl": "",
      "userId": "18153662719245913355"
     },
     "user_tz": -240
    },
    "id": "YhW32k9M7G5Z"
   },
   "outputs": [],
   "source": [
    " def draw_hist(f1): \n",
    "  plt.figure(figsize=(8,6))\n",
    "  plt.hist(breast_cancer[f1][breast_cancer['diagnosis']=='M'], bins=100, alpha=0.5, label=f\"{f1} of Malignant\")\n",
    "  plt.hist(breast_cancer[f1][breast_cancer['diagnosis']=='B'], bins=100, alpha=0.5, label=f\"{f1} of benign\")\n",
    "\n",
    "  plt.xlabel(\"Data\", size=14)\n",
    "  plt.ylabel(\"Count\", size=14)\n",
    "  plt.title(\"histogram\")\n",
    "  plt.legend(loc='upper right')\n",
    "\n"
   ]
  },
  {
   "cell_type": "markdown",
   "metadata": {
    "id": "bqm7nhE28A04"
   },
   "source": [
    "Malignant tumours have on average larger smothness and larger compactness than benign tumours, also malignant tumours have higher variance than benign tumours. Smoothness may be one of the good indicator for classification purposes since there is a clear distinction between the two types. However it is hard to distinguish the types of tumour based on compactness features, since the data is mixed and clear discerntion is difficult. We can use non-linear methods later on to aid in this purpose"
   ]
  },
  {
   "cell_type": "markdown",
   "metadata": {
    "id": "ituO7IB6dsOK"
   },
   "source": [
    "## Bootstrap Function\n"
   ]
  },
  {
   "cell_type": "code",
   "execution_count": 269,
   "metadata": {
    "colab": {
     "base_uri": "https://localhost:8080/",
     "height": 376
    },
    "executionInfo": {
     "elapsed": 303,
     "status": "ok",
     "timestamp": 1622934437502,
     "user": {
      "displayName": "Asad Ali",
      "photoUrl": "",
      "userId": "18153662719245913355"
     },
     "user_tz": -240
    },
    "id": "LrqVDP2orWhV",
    "outputId": "3b76df10-8709-4cde-d7d8-227aaca1e7f6"
   },
   "outputs": [
    {
     "data": {
      "text/html": [
       "<div>\n",
       "<style scoped>\n",
       "    .dataframe tbody tr th:only-of-type {\n",
       "        vertical-align: middle;\n",
       "    }\n",
       "\n",
       "    .dataframe tbody tr th {\n",
       "        vertical-align: top;\n",
       "    }\n",
       "\n",
       "    .dataframe thead th {\n",
       "        text-align: right;\n",
       "    }\n",
       "</style>\n",
       "<table border=\"1\" class=\"dataframe\">\n",
       "  <thead>\n",
       "    <tr style=\"text-align: right;\">\n",
       "      <th></th>\n",
       "      <th>ID</th>\n",
       "      <th>diagnosis</th>\n",
       "      <th>radius_mean</th>\n",
       "      <th>radius_sd_error</th>\n",
       "      <th>radius_worst</th>\n",
       "      <th>texture_mean</th>\n",
       "      <th>texture_sd_error</th>\n",
       "      <th>texture_worst</th>\n",
       "      <th>perimeter_mean</th>\n",
       "      <th>perimeter_sd_error</th>\n",
       "      <th>perimeter_worst</th>\n",
       "      <th>area_mean</th>\n",
       "      <th>area_sd_error</th>\n",
       "      <th>area_worst</th>\n",
       "      <th>smoothness_mean</th>\n",
       "      <th>smoothness_sd_error</th>\n",
       "      <th>smoothness_worst</th>\n",
       "      <th>compactness_mean</th>\n",
       "      <th>compactness_sd_error</th>\n",
       "      <th>compactness_worst</th>\n",
       "      <th>concavity_mean</th>\n",
       "      <th>concavity_sd_error</th>\n",
       "      <th>concavity_worst</th>\n",
       "      <th>concave_points_mean</th>\n",
       "      <th>concave_points_sd_error</th>\n",
       "      <th>concave_points_worst</th>\n",
       "      <th>symmetry_mean</th>\n",
       "      <th>symmetry_sd_error</th>\n",
       "      <th>symmetry_worst</th>\n",
       "      <th>fractal_dimension_mean</th>\n",
       "      <th>fractal_dimension_sd_error</th>\n",
       "      <th>fractal_dimension_worst</th>\n",
       "    </tr>\n",
       "  </thead>\n",
       "  <tbody>\n",
       "    <tr>\n",
       "      <th>346</th>\n",
       "      <td>898678</td>\n",
       "      <td>B</td>\n",
       "      <td>12.06</td>\n",
       "      <td>18.90</td>\n",
       "      <td>76.66</td>\n",
       "      <td>445.3</td>\n",
       "      <td>0.08386</td>\n",
       "      <td>0.05794</td>\n",
       "      <td>0.00751</td>\n",
       "      <td>0.008488</td>\n",
       "      <td>0.1555</td>\n",
       "      <td>0.06048</td>\n",
       "      <td>0.2430</td>\n",
       "      <td>1.1520</td>\n",
       "      <td>1.5590</td>\n",
       "      <td>18.020</td>\n",
       "      <td>0.007180</td>\n",
       "      <td>0.010960</td>\n",
       "      <td>0.005832</td>\n",
       "      <td>0.005495</td>\n",
       "      <td>0.01982</td>\n",
       "      <td>0.002754</td>\n",
       "      <td>13.64</td>\n",
       "      <td>27.06</td>\n",
       "      <td>86.54</td>\n",
       "      <td>562.6</td>\n",
       "      <td>0.12890</td>\n",
       "      <td>0.13520</td>\n",
       "      <td>0.04506</td>\n",
       "      <td>0.05093</td>\n",
       "      <td>0.2880</td>\n",
       "      <td>0.08083</td>\n",
       "    </tr>\n",
       "    <tr>\n",
       "      <th>547</th>\n",
       "      <td>922840</td>\n",
       "      <td>B</td>\n",
       "      <td>10.26</td>\n",
       "      <td>16.58</td>\n",
       "      <td>65.85</td>\n",
       "      <td>320.8</td>\n",
       "      <td>0.08877</td>\n",
       "      <td>0.08066</td>\n",
       "      <td>0.04358</td>\n",
       "      <td>0.024380</td>\n",
       "      <td>0.1669</td>\n",
       "      <td>0.06714</td>\n",
       "      <td>0.1144</td>\n",
       "      <td>1.0230</td>\n",
       "      <td>0.9887</td>\n",
       "      <td>7.326</td>\n",
       "      <td>0.010270</td>\n",
       "      <td>0.030840</td>\n",
       "      <td>0.026130</td>\n",
       "      <td>0.010970</td>\n",
       "      <td>0.02277</td>\n",
       "      <td>0.005890</td>\n",
       "      <td>10.83</td>\n",
       "      <td>22.04</td>\n",
       "      <td>71.08</td>\n",
       "      <td>357.4</td>\n",
       "      <td>0.14610</td>\n",
       "      <td>0.22460</td>\n",
       "      <td>0.17830</td>\n",
       "      <td>0.08333</td>\n",
       "      <td>0.2691</td>\n",
       "      <td>0.09479</td>\n",
       "    </tr>\n",
       "    <tr>\n",
       "      <th>478</th>\n",
       "      <td>911685</td>\n",
       "      <td>B</td>\n",
       "      <td>11.49</td>\n",
       "      <td>14.59</td>\n",
       "      <td>73.99</td>\n",
       "      <td>404.9</td>\n",
       "      <td>0.10460</td>\n",
       "      <td>0.08228</td>\n",
       "      <td>0.05308</td>\n",
       "      <td>0.019690</td>\n",
       "      <td>0.1779</td>\n",
       "      <td>0.06574</td>\n",
       "      <td>0.2034</td>\n",
       "      <td>1.1660</td>\n",
       "      <td>1.5670</td>\n",
       "      <td>14.340</td>\n",
       "      <td>0.004957</td>\n",
       "      <td>0.021140</td>\n",
       "      <td>0.041560</td>\n",
       "      <td>0.008038</td>\n",
       "      <td>0.01843</td>\n",
       "      <td>0.003614</td>\n",
       "      <td>12.40</td>\n",
       "      <td>21.90</td>\n",
       "      <td>82.04</td>\n",
       "      <td>467.6</td>\n",
       "      <td>0.13520</td>\n",
       "      <td>0.20100</td>\n",
       "      <td>0.25960</td>\n",
       "      <td>0.07431</td>\n",
       "      <td>0.2941</td>\n",
       "      <td>0.09180</td>\n",
       "    </tr>\n",
       "    <tr>\n",
       "      <th>108</th>\n",
       "      <td>86355</td>\n",
       "      <td>M</td>\n",
       "      <td>22.27</td>\n",
       "      <td>19.67</td>\n",
       "      <td>152.80</td>\n",
       "      <td>1509.0</td>\n",
       "      <td>0.13260</td>\n",
       "      <td>0.27680</td>\n",
       "      <td>0.42640</td>\n",
       "      <td>0.182300</td>\n",
       "      <td>0.2556</td>\n",
       "      <td>0.07039</td>\n",
       "      <td>1.2150</td>\n",
       "      <td>1.5450</td>\n",
       "      <td>10.0500</td>\n",
       "      <td>170.000</td>\n",
       "      <td>0.006515</td>\n",
       "      <td>0.086680</td>\n",
       "      <td>0.104000</td>\n",
       "      <td>0.024800</td>\n",
       "      <td>0.03112</td>\n",
       "      <td>0.005037</td>\n",
       "      <td>28.40</td>\n",
       "      <td>28.01</td>\n",
       "      <td>206.80</td>\n",
       "      <td>2360.0</td>\n",
       "      <td>0.17010</td>\n",
       "      <td>0.69970</td>\n",
       "      <td>0.96080</td>\n",
       "      <td>0.29100</td>\n",
       "      <td>0.4055</td>\n",
       "      <td>0.09789</td>\n",
       "    </tr>\n",
       "    <tr>\n",
       "      <th>37</th>\n",
       "      <td>854941</td>\n",
       "      <td>B</td>\n",
       "      <td>13.03</td>\n",
       "      <td>18.42</td>\n",
       "      <td>82.61</td>\n",
       "      <td>523.8</td>\n",
       "      <td>0.08983</td>\n",
       "      <td>0.03766</td>\n",
       "      <td>0.02562</td>\n",
       "      <td>0.029230</td>\n",
       "      <td>0.1467</td>\n",
       "      <td>0.05863</td>\n",
       "      <td>0.1839</td>\n",
       "      <td>2.3420</td>\n",
       "      <td>1.1700</td>\n",
       "      <td>14.160</td>\n",
       "      <td>0.004352</td>\n",
       "      <td>0.004899</td>\n",
       "      <td>0.013430</td>\n",
       "      <td>0.011640</td>\n",
       "      <td>0.02671</td>\n",
       "      <td>0.001777</td>\n",
       "      <td>13.30</td>\n",
       "      <td>22.81</td>\n",
       "      <td>84.46</td>\n",
       "      <td>545.9</td>\n",
       "      <td>0.09701</td>\n",
       "      <td>0.04619</td>\n",
       "      <td>0.04833</td>\n",
       "      <td>0.05013</td>\n",
       "      <td>0.1987</td>\n",
       "      <td>0.06169</td>\n",
       "    </tr>\n",
       "    <tr>\n",
       "      <th>321</th>\n",
       "      <td>894618</td>\n",
       "      <td>M</td>\n",
       "      <td>20.16</td>\n",
       "      <td>19.66</td>\n",
       "      <td>131.10</td>\n",
       "      <td>1274.0</td>\n",
       "      <td>0.08020</td>\n",
       "      <td>0.08564</td>\n",
       "      <td>0.11550</td>\n",
       "      <td>0.077260</td>\n",
       "      <td>0.1928</td>\n",
       "      <td>0.05096</td>\n",
       "      <td>0.5925</td>\n",
       "      <td>0.6863</td>\n",
       "      <td>3.8680</td>\n",
       "      <td>74.850</td>\n",
       "      <td>0.004536</td>\n",
       "      <td>0.013760</td>\n",
       "      <td>0.026450</td>\n",
       "      <td>0.012470</td>\n",
       "      <td>0.02193</td>\n",
       "      <td>0.001589</td>\n",
       "      <td>23.06</td>\n",
       "      <td>23.03</td>\n",
       "      <td>150.20</td>\n",
       "      <td>1657.0</td>\n",
       "      <td>0.10540</td>\n",
       "      <td>0.15370</td>\n",
       "      <td>0.26060</td>\n",
       "      <td>0.14250</td>\n",
       "      <td>0.3055</td>\n",
       "      <td>0.05933</td>\n",
       "    </tr>\n",
       "    <tr>\n",
       "      <th>496</th>\n",
       "      <td>914366</td>\n",
       "      <td>B</td>\n",
       "      <td>12.65</td>\n",
       "      <td>18.17</td>\n",
       "      <td>82.69</td>\n",
       "      <td>485.6</td>\n",
       "      <td>0.10760</td>\n",
       "      <td>0.13340</td>\n",
       "      <td>0.08017</td>\n",
       "      <td>0.050740</td>\n",
       "      <td>0.1641</td>\n",
       "      <td>0.06854</td>\n",
       "      <td>0.2324</td>\n",
       "      <td>0.6332</td>\n",
       "      <td>1.6960</td>\n",
       "      <td>18.400</td>\n",
       "      <td>0.005704</td>\n",
       "      <td>0.025020</td>\n",
       "      <td>0.026360</td>\n",
       "      <td>0.010320</td>\n",
       "      <td>0.01759</td>\n",
       "      <td>0.003563</td>\n",
       "      <td>14.38</td>\n",
       "      <td>22.15</td>\n",
       "      <td>95.29</td>\n",
       "      <td>633.7</td>\n",
       "      <td>0.15330</td>\n",
       "      <td>0.38420</td>\n",
       "      <td>0.35820</td>\n",
       "      <td>0.14070</td>\n",
       "      <td>0.3230</td>\n",
       "      <td>0.10330</td>\n",
       "    </tr>\n",
       "    <tr>\n",
       "      <th>201</th>\n",
       "      <td>877989</td>\n",
       "      <td>M</td>\n",
       "      <td>17.54</td>\n",
       "      <td>19.32</td>\n",
       "      <td>115.10</td>\n",
       "      <td>951.6</td>\n",
       "      <td>0.08968</td>\n",
       "      <td>0.11980</td>\n",
       "      <td>0.10360</td>\n",
       "      <td>0.074880</td>\n",
       "      <td>0.1506</td>\n",
       "      <td>0.05491</td>\n",
       "      <td>0.3971</td>\n",
       "      <td>0.8282</td>\n",
       "      <td>3.0880</td>\n",
       "      <td>40.730</td>\n",
       "      <td>0.006090</td>\n",
       "      <td>0.025690</td>\n",
       "      <td>0.027130</td>\n",
       "      <td>0.013450</td>\n",
       "      <td>0.01594</td>\n",
       "      <td>0.002658</td>\n",
       "      <td>20.42</td>\n",
       "      <td>25.84</td>\n",
       "      <td>139.50</td>\n",
       "      <td>1239.0</td>\n",
       "      <td>0.13810</td>\n",
       "      <td>0.34200</td>\n",
       "      <td>0.35080</td>\n",
       "      <td>0.19390</td>\n",
       "      <td>0.2928</td>\n",
       "      <td>0.07867</td>\n",
       "    </tr>\n",
       "    <tr>\n",
       "      <th>272</th>\n",
       "      <td>8910988</td>\n",
       "      <td>M</td>\n",
       "      <td>21.75</td>\n",
       "      <td>20.99</td>\n",
       "      <td>147.30</td>\n",
       "      <td>1491.0</td>\n",
       "      <td>0.09401</td>\n",
       "      <td>0.19610</td>\n",
       "      <td>0.21950</td>\n",
       "      <td>0.108800</td>\n",
       "      <td>0.1721</td>\n",
       "      <td>0.06194</td>\n",
       "      <td>1.1670</td>\n",
       "      <td>1.3520</td>\n",
       "      <td>8.8670</td>\n",
       "      <td>156.800</td>\n",
       "      <td>0.005687</td>\n",
       "      <td>0.049600</td>\n",
       "      <td>0.063290</td>\n",
       "      <td>0.015610</td>\n",
       "      <td>0.01924</td>\n",
       "      <td>0.004614</td>\n",
       "      <td>28.19</td>\n",
       "      <td>28.18</td>\n",
       "      <td>195.90</td>\n",
       "      <td>2384.0</td>\n",
       "      <td>0.12720</td>\n",
       "      <td>0.47250</td>\n",
       "      <td>0.58070</td>\n",
       "      <td>0.18410</td>\n",
       "      <td>0.2833</td>\n",
       "      <td>0.08858</td>\n",
       "    </tr>\n",
       "    <tr>\n",
       "      <th>85</th>\n",
       "      <td>8612399</td>\n",
       "      <td>M</td>\n",
       "      <td>18.46</td>\n",
       "      <td>18.52</td>\n",
       "      <td>121.10</td>\n",
       "      <td>1075.0</td>\n",
       "      <td>0.09874</td>\n",
       "      <td>0.10530</td>\n",
       "      <td>0.13350</td>\n",
       "      <td>0.087950</td>\n",
       "      <td>0.2132</td>\n",
       "      <td>0.06022</td>\n",
       "      <td>0.6997</td>\n",
       "      <td>1.4750</td>\n",
       "      <td>4.7820</td>\n",
       "      <td>80.600</td>\n",
       "      <td>0.006471</td>\n",
       "      <td>0.016490</td>\n",
       "      <td>0.028060</td>\n",
       "      <td>0.014200</td>\n",
       "      <td>0.02370</td>\n",
       "      <td>0.003755</td>\n",
       "      <td>22.93</td>\n",
       "      <td>27.68</td>\n",
       "      <td>152.20</td>\n",
       "      <td>1603.0</td>\n",
       "      <td>0.13980</td>\n",
       "      <td>0.20890</td>\n",
       "      <td>0.31570</td>\n",
       "      <td>0.16420</td>\n",
       "      <td>0.3695</td>\n",
       "      <td>0.08579</td>\n",
       "    </tr>\n",
       "  </tbody>\n",
       "</table>\n",
       "</div>"
      ],
      "text/plain": [
       "          ID diagnosis  ...  fractal_dimension_sd_error  fractal_dimension_worst\n",
       "346   898678         B  ...                      0.2880                  0.08083\n",
       "547   922840         B  ...                      0.2691                  0.09479\n",
       "478   911685         B  ...                      0.2941                  0.09180\n",
       "108    86355         M  ...                      0.4055                  0.09789\n",
       "37    854941         B  ...                      0.1987                  0.06169\n",
       "321   894618         M  ...                      0.3055                  0.05933\n",
       "496   914366         B  ...                      0.3230                  0.10330\n",
       "201   877989         M  ...                      0.2928                  0.07867\n",
       "272  8910988         M  ...                      0.2833                  0.08858\n",
       "85   8612399         M  ...                      0.3695                  0.08579\n",
       "\n",
       "[10 rows x 32 columns]"
      ]
     },
     "execution_count": 269,
     "metadata": {
      "tags": []
     },
     "output_type": "execute_result"
    }
   ],
   "source": [
    "#bootstrap data\n",
    "import random\n",
    "\n",
    "def generate_bootstrap_sample(df,n_size):\n",
    "  bootstrap_id = []\n",
    "  for _ in range(n_size):\n",
    "    bootstrap_id.append(random.randrange(0,len(df)-1))\n",
    "\n",
    "  return df.iloc[bootstrap_id,:]\n",
    "\n",
    "generate_bootstrap_sample(breast_cancer,10)\n"
   ]
  },
  {
   "cell_type": "markdown",
   "metadata": {
    "id": "0F5HcNjyZJUy"
   },
   "source": [
    "Visulization of two features. In order to avoid inital bias, we will use random forest model to calculate feature importance values for all features and then select two of the most important features based on the model. Similarly we will first normalize the data for later modeling purposes"
   ]
  },
  {
   "cell_type": "code",
   "execution_count": 140,
   "metadata": {
    "colab": {
     "base_uri": "https://localhost:8080/",
     "height": 640
    },
    "executionInfo": {
     "elapsed": 1899,
     "status": "ok",
     "timestamp": 1622927518171,
     "user": {
      "displayName": "Asad Ali",
      "photoUrl": "",
      "userId": "18153662719245913355"
     },
     "user_tz": -240
    },
    "id": "-h1Hu4gArnKi",
    "outputId": "bbe77adc-9764-417c-ecf0-76b251331338"
   },
   "outputs": [
    {
     "data": {
      "image/png": "[encoded data removed]",
      "text/plain": [
       "<Figure size 720x720 with 2 Axes>"
      ]
     },
     "metadata": {
      "needs_background": "light",
      "tags": []
     },
     "output_type": "display_data"
    }
   ],
   "source": [
    "import seaborn as sns\n",
    "numeric_data = breast_cancer.drop(columns=['diagnosis','ID'])\n",
    "numeric_data = numeric_data\n",
    "\n",
    "\n",
    "from sklearn.preprocessing import StandardScaler\n",
    "from pandas.api.types import is_object_dtype, is_numeric_dtype,is_string_dtype\n",
    "from sklearn_pandas import DataFrameMapper\n",
    "\n",
    "# we will normalize the datasets \n",
    "Scale_mapper = [([n],StandardScaler()) for n in numeric_data.columns if is_numeric_dtype(numeric_data[n])]\n",
    "mapper_func = DataFrameMapper(Scale_mapper).fit(numeric_data)\n",
    "numeric_data[mapper_func.transformed_names_] = mapper_func.transform(numeric_data)\n",
    "corr = numeric_data.corr()\n",
    "fig, ax = plt.subplots(figsize=(10,10))\n",
    "ax = sns.heatmap(\n",
    "    corr, \n",
    "    vmin=-1, vmax=1, center=0,\n",
    "    cmap=sns.diverging_palette(20, 220, n=200),\n",
    "    square=True,\n",
    "    ax=ax\n",
    ")\n",
    "ax.set_xticklabels(\n",
    "    ax.get_xticklabels(),\n",
    "    rotation=45,\n",
    "    horizontalalignment='right'\n",
    ");\n"
   ]
  },
  {
   "cell_type": "markdown",
   "metadata": {
    "id": "do3PCBNwZos7"
   },
   "source": [
    "The heat map shows families of features such as concavity and compactness are generally correlated. This may impact our modelling later on, such as logistic regression, also many of the features do not show typical normal distribution but are heavily skewed, this will also have an impact on our modelling choices, since the requirements for regression analysis may not be met. Alternately we can use Random forest or other greedy algorithms for such cases"
   ]
  },
  {
   "cell_type": "code",
   "execution_count": 141,
   "metadata": {
    "colab": {
     "base_uri": "https://localhost:8080/"
    },
    "executionInfo": {
     "elapsed": 350,
     "status": "ok",
     "timestamp": 1622927530065,
     "user": {
      "displayName": "Asad Ali",
      "photoUrl": "",
      "userId": "18153662719245913355"
     },
     "user_tz": -240
    },
    "id": "AUDKbeN0tXLv",
    "outputId": "d6394cd1-f8b6-47d4-dfb0-2ba14af81857"
   },
   "outputs": [
    {
     "data": {
      "text/plain": [
       "((399, 30), (399,), (170,), (170, 30))"
      ]
     },
     "execution_count": 141,
     "metadata": {
      "tags": []
     },
     "output_type": "execute_result"
    }
   ],
   "source": [
    "breast_cancer = pd.concat([breast_cancer[['diagnosis']], numeric_data], axis=1)\n",
    "\n",
    "def splitter(df,no_rows): return df[:no_rows].copy(), df[no_rows:].copy()\n",
    "\n",
    "n_valid = int(0.3*len(breast_cancer))  \n",
    "n_trn = len(breast_cancer)-n_valid\n",
    "y = breast_cancer['diagnosis']\n",
    "X = breast_cancer.drop(columns=['diagnosis'])\n",
    "X_train, X_valid = splitter(X, n_trn)\n",
    "y_train, y_valid = splitter(y, n_trn)\n",
    "X_train.shape, y_train.shape, y_valid.shape, X_valid.shape\n",
    "\n"
   ]
  },
  {
   "cell_type": "code",
   "execution_count": 142,
   "metadata": {
    "colab": {
     "base_uri": "https://localhost:8080/"
    },
    "executionInfo": {
     "elapsed": 889,
     "status": "ok",
     "timestamp": 1622927533070,
     "user": {
      "displayName": "Asad Ali",
      "photoUrl": "",
      "userId": "18153662719245913355"
     },
     "user_tz": -240
    },
    "id": "fXI8wZ-OzbuP",
    "outputId": "4cfb6b24-9dc5-4fbc-ddff-f17796333134"
   },
   "outputs": [
    {
     "name": "stdout",
     "output_type": "stream",
     "text": [
      "[1.0, 0.9601518916131453, 1.0, 0.9705882352941176]\n",
      "0.1153989059797175\n",
      "accuracy is 0.9705882352941176\n"
     ]
    }
   ],
   "source": [
    "from sklearn.metrics import f1_score,log_loss,accuracy_score\n",
    "from sklearn.ensemble import RandomForestClassifier\n",
    "def score(x,y): return f1_score(y,x,average='macro')\n",
    "def print_score(m):\n",
    "    res = [score(m.predict(X_train), y_train),\n",
    "           score(m.predict(X_valid), y_valid),\n",
    "           m.score(X_train, y_train), m.score(X_valid, y_valid)]\n",
    "    if hasattr(m, 'oob_score_'): res.append(m.oob_score_)\n",
    "    print(res)\n",
    "m = RandomForestClassifier(n_jobs=-1,bootstrap=True)\n",
    "m.fit(X_train, y_train)\n",
    "print_score(m)\n",
    "valid_probs = m.predict_proba(X_valid)\n",
    "\n",
    "score = log_loss(y_valid, valid_probs)\n",
    "print(score)\n",
    "print(f'accuracy is {accuracy_score(m.predict(X_valid),y_valid)}')"
   ]
  },
  {
   "cell_type": "code",
   "execution_count": 143,
   "metadata": {
    "colab": {
     "base_uri": "https://localhost:8080/",
     "height": 406
    },
    "executionInfo": {
     "elapsed": 1098,
     "status": "ok",
     "timestamp": 1622927536046,
     "user": {
      "displayName": "Asad Ali",
      "photoUrl": "",
      "userId": "18153662719245913355"
     },
     "user_tz": -240
    },
    "id": "TOA4WAkX0P7S",
    "outputId": "d8d97de4-d11d-41c0-c252-1e2172b088e5"
   },
   "outputs": [
    {
     "data": {
      "text/plain": [
       "<matplotlib.axes._subplots.AxesSubplot at 0x7f62808f9a90>"
      ]
     },
     "execution_count": 143,
     "metadata": {
      "tags": []
     },
     "output_type": "execute_result"
    },
    {
     "data": {
      "image/png": "[encoded data removed]",
      "text/plain": [
       "<Figure size 720x432 with 1 Axes>"
      ]
     },
     "metadata": {
      "needs_background": "light",
      "tags": []
     },
     "output_type": "display_data"
    }
   ],
   "source": [
    "def rf_feat_importance(m, df):\n",
    "    \"\"\" Create a pandas.DataFrame of feature importances.\n",
    "    \"\"\"\n",
    "    return pd.DataFrame({'cols':df.columns, 'imp':m.feature_importances_}\n",
    "                       ).sort_values('imp', ascending=False)\n",
    "fi = rf_feat_importance(m, X); fi[:10]\n",
    "fi.plot('cols', 'imp', figsize=(10,6), legend=False)"
   ]
  },
  {
   "cell_type": "code",
   "execution_count": 144,
   "metadata": {
    "colab": {
     "base_uri": "https://localhost:8080/",
     "height": 971
    },
    "executionInfo": {
     "elapsed": 317,
     "status": "ok",
     "timestamp": 1622927540825,
     "user": {
      "displayName": "Asad Ali",
      "photoUrl": "",
      "userId": "18153662719245913355"
     },
     "user_tz": -240
    },
    "id": "FyAWro3f0new",
    "outputId": "2e051e6a-d6a1-4f0c-cf62-b97e5b582a8d"
   },
   "outputs": [
    {
     "data": {
      "text/html": [
       "<div>\n",
       "<style scoped>\n",
       "    .dataframe tbody tr th:only-of-type {\n",
       "        vertical-align: middle;\n",
       "    }\n",
       "\n",
       "    .dataframe tbody tr th {\n",
       "        vertical-align: top;\n",
       "    }\n",
       "\n",
       "    .dataframe thead th {\n",
       "        text-align: right;\n",
       "    }\n",
       "</style>\n",
       "<table border=\"1\" class=\"dataframe\">\n",
       "  <thead>\n",
       "    <tr style=\"text-align: right;\">\n",
       "      <th></th>\n",
       "      <th>cols</th>\n",
       "      <th>imp</th>\n",
       "    </tr>\n",
       "  </thead>\n",
       "  <tbody>\n",
       "    <tr>\n",
       "      <th>20</th>\n",
       "      <td>concavity_worst</td>\n",
       "      <td>0.146776</td>\n",
       "    </tr>\n",
       "    <tr>\n",
       "      <th>27</th>\n",
       "      <td>fractal_dimension_mean</td>\n",
       "      <td>0.131483</td>\n",
       "    </tr>\n",
       "    <tr>\n",
       "      <th>22</th>\n",
       "      <td>concave_points_sd_error</td>\n",
       "      <td>0.122281</td>\n",
       "    </tr>\n",
       "    <tr>\n",
       "      <th>7</th>\n",
       "      <td>perimeter_sd_error</td>\n",
       "      <td>0.104216</td>\n",
       "    </tr>\n",
       "    <tr>\n",
       "      <th>23</th>\n",
       "      <td>concave_points_worst</td>\n",
       "      <td>0.081606</td>\n",
       "    </tr>\n",
       "    <tr>\n",
       "      <th>26</th>\n",
       "      <td>symmetry_worst</td>\n",
       "      <td>0.048961</td>\n",
       "    </tr>\n",
       "    <tr>\n",
       "      <th>13</th>\n",
       "      <td>smoothness_sd_error</td>\n",
       "      <td>0.045494</td>\n",
       "    </tr>\n",
       "    <tr>\n",
       "      <th>3</th>\n",
       "      <td>texture_mean</td>\n",
       "      <td>0.042514</td>\n",
       "    </tr>\n",
       "    <tr>\n",
       "      <th>2</th>\n",
       "      <td>radius_worst</td>\n",
       "      <td>0.039771</td>\n",
       "    </tr>\n",
       "    <tr>\n",
       "      <th>0</th>\n",
       "      <td>radius_mean</td>\n",
       "      <td>0.039434</td>\n",
       "    </tr>\n",
       "    <tr>\n",
       "      <th>6</th>\n",
       "      <td>perimeter_mean</td>\n",
       "      <td>0.029437</td>\n",
       "    </tr>\n",
       "    <tr>\n",
       "      <th>25</th>\n",
       "      <td>symmetry_sd_error</td>\n",
       "      <td>0.023689</td>\n",
       "    </tr>\n",
       "    <tr>\n",
       "      <th>21</th>\n",
       "      <td>concave_points_mean</td>\n",
       "      <td>0.020153</td>\n",
       "    </tr>\n",
       "    <tr>\n",
       "      <th>1</th>\n",
       "      <td>radius_sd_error</td>\n",
       "      <td>0.019173</td>\n",
       "    </tr>\n",
       "    <tr>\n",
       "      <th>12</th>\n",
       "      <td>smoothness_mean</td>\n",
       "      <td>0.013758</td>\n",
       "    </tr>\n",
       "    <tr>\n",
       "      <th>24</th>\n",
       "      <td>symmetry_mean</td>\n",
       "      <td>0.013072</td>\n",
       "    </tr>\n",
       "    <tr>\n",
       "      <th>10</th>\n",
       "      <td>area_sd_error</td>\n",
       "      <td>0.012692</td>\n",
       "    </tr>\n",
       "    <tr>\n",
       "      <th>28</th>\n",
       "      <td>fractal_dimension_sd_error</td>\n",
       "      <td>0.009644</td>\n",
       "    </tr>\n",
       "    <tr>\n",
       "      <th>16</th>\n",
       "      <td>compactness_sd_error</td>\n",
       "      <td>0.007429</td>\n",
       "    </tr>\n",
       "    <tr>\n",
       "      <th>29</th>\n",
       "      <td>fractal_dimension_worst</td>\n",
       "      <td>0.007062</td>\n",
       "    </tr>\n",
       "    <tr>\n",
       "      <th>4</th>\n",
       "      <td>texture_sd_error</td>\n",
       "      <td>0.006215</td>\n",
       "    </tr>\n",
       "    <tr>\n",
       "      <th>17</th>\n",
       "      <td>compactness_worst</td>\n",
       "      <td>0.005375</td>\n",
       "    </tr>\n",
       "    <tr>\n",
       "      <th>5</th>\n",
       "      <td>texture_worst</td>\n",
       "      <td>0.004961</td>\n",
       "    </tr>\n",
       "    <tr>\n",
       "      <th>15</th>\n",
       "      <td>compactness_mean</td>\n",
       "      <td>0.004876</td>\n",
       "    </tr>\n",
       "    <tr>\n",
       "      <th>14</th>\n",
       "      <td>smoothness_worst</td>\n",
       "      <td>0.004703</td>\n",
       "    </tr>\n",
       "    <tr>\n",
       "      <th>19</th>\n",
       "      <td>concavity_sd_error</td>\n",
       "      <td>0.003907</td>\n",
       "    </tr>\n",
       "    <tr>\n",
       "      <th>11</th>\n",
       "      <td>area_worst</td>\n",
       "      <td>0.003261</td>\n",
       "    </tr>\n",
       "    <tr>\n",
       "      <th>8</th>\n",
       "      <td>perimeter_worst</td>\n",
       "      <td>0.003221</td>\n",
       "    </tr>\n",
       "    <tr>\n",
       "      <th>9</th>\n",
       "      <td>area_mean</td>\n",
       "      <td>0.002882</td>\n",
       "    </tr>\n",
       "    <tr>\n",
       "      <th>18</th>\n",
       "      <td>concavity_mean</td>\n",
       "      <td>0.001951</td>\n",
       "    </tr>\n",
       "  </tbody>\n",
       "</table>\n",
       "</div>"
      ],
      "text/plain": [
       "                          cols       imp\n",
       "20             concavity_worst  0.146776\n",
       "27      fractal_dimension_mean  0.131483\n",
       "22     concave_points_sd_error  0.122281\n",
       "7           perimeter_sd_error  0.104216\n",
       "23        concave_points_worst  0.081606\n",
       "26              symmetry_worst  0.048961\n",
       "13         smoothness_sd_error  0.045494\n",
       "3                 texture_mean  0.042514\n",
       "2                 radius_worst  0.039771\n",
       "0                  radius_mean  0.039434\n",
       "6               perimeter_mean  0.029437\n",
       "25           symmetry_sd_error  0.023689\n",
       "21         concave_points_mean  0.020153\n",
       "1              radius_sd_error  0.019173\n",
       "12             smoothness_mean  0.013758\n",
       "24               symmetry_mean  0.013072\n",
       "10               area_sd_error  0.012692\n",
       "28  fractal_dimension_sd_error  0.009644\n",
       "16        compactness_sd_error  0.007429\n",
       "29     fractal_dimension_worst  0.007062\n",
       "4             texture_sd_error  0.006215\n",
       "17           compactness_worst  0.005375\n",
       "5                texture_worst  0.004961\n",
       "15            compactness_mean  0.004876\n",
       "14            smoothness_worst  0.004703\n",
       "19          concavity_sd_error  0.003907\n",
       "11                  area_worst  0.003261\n",
       "8              perimeter_worst  0.003221\n",
       "9                    area_mean  0.002882\n",
       "18              concavity_mean  0.001951"
      ]
     },
     "execution_count": 144,
     "metadata": {
      "tags": []
     },
     "output_type": "execute_result"
    }
   ],
   "source": [
    "fi\n",
    "#top features which can aid in classification of the two types of tumours"
   ]
  },
  {
   "cell_type": "code",
   "execution_count": 270,
   "metadata": {
    "colab": {
     "base_uri": "https://localhost:8080/",
     "height": 408
    },
    "executionInfo": {
     "elapsed": 831,
     "status": "ok",
     "timestamp": 1622934448887,
     "user": {
      "displayName": "Asad Ali",
      "photoUrl": "",
      "userId": "18153662719245913355"
     },
     "user_tz": -240
    },
    "id": "pMRkJ6-b2HoC",
    "outputId": "4c87c2c1-8fdc-4705-f2ad-17479f0e573a"
   },
   "outputs": [
    {
     "data": {
      "image/png": "[encoded data removed]",
      "text/plain": [
       "<Figure size 576x432 with 1 Axes>"
      ]
     },
     "metadata": {
      "needs_background": "light",
      "tags": []
     },
     "output_type": "display_data"
    }
   ],
   "source": [
    "#concavity_worst seems like a good indicator as it provides clear distinction between two classes\n",
    "def draw_hist(f1): \n",
    "  plt.figure(figsize=(8,6))\n",
    "  plt.hist(breast_cancer_org[f1][breast_cancer['diagnosis']=='M'], bins=100, alpha=0.5, label=f\"{f1} of Malignant\")\n",
    "  plt.hist(breast_cancer_org[f1][breast_cancer['diagnosis']=='B'], bins=100, alpha=0.5, label=f\"{f1} of benign\")\n",
    "\n",
    "  plt.xlabel(\"Data\", size=14)\n",
    "  plt.ylabel(\"Count\", size=14)\n",
    "  plt.title(\"histogram\")\n",
    "  plt.legend(loc='upper right')\n",
    "\n",
    "draw_hist('concavity_worst')"
   ]
  },
  {
   "cell_type": "markdown",
   "metadata": {
    "id": "AEqC1wS6bt3p"
   },
   "source": [
    "From the histogram, at around a value of 18 units of concavity_worst it is might be possible to draw a classifer line to distinguish the two classes. It seems that for malignant tumour the concavity of tumour increases significantly"
   ]
  },
  {
   "cell_type": "code",
   "execution_count": 271,
   "metadata": {
    "colab": {
     "base_uri": "https://localhost:8080/",
     "height": 408
    },
    "executionInfo": {
     "elapsed": 842,
     "status": "ok",
     "timestamp": 1622934463463,
     "user": {
      "displayName": "Asad Ali",
      "photoUrl": "",
      "userId": "18153662719245913355"
     },
     "user_tz": -240
    },
    "id": "iXAxEXwIDFky",
    "outputId": "56b9ae13-98f9-4601-f346-379305d4b5ae"
   },
   "outputs": [
    {
     "data": {
      "image/png": "[encoded data removed]",
      "text/plain": [
       "<Figure size 576x432 with 1 Axes>"
      ]
     },
     "metadata": {
      "needs_background": "light",
      "tags": []
     },
     "output_type": "display_data"
    }
   ],
   "source": [
    "draw_hist('fractal_dimension_mean')"
   ]
  },
  {
   "cell_type": "markdown",
   "metadata": {
    "id": "2WK_xfIRb7dO"
   },
   "source": [
    "Similar to above at around a value of 0.15 units of fractal_dimension it is easier to draw a classifer line to distinguish the two classes. It seems that for malignant tumour the fractal dimensionality of tumour increases significantly"
   ]
  },
  {
   "cell_type": "code",
   "execution_count": 294,
   "metadata": {
    "colab": {
     "base_uri": "https://localhost:8080/",
     "height": 408
    },
    "executionInfo": {
     "elapsed": 1026,
     "status": "ok",
     "timestamp": 1622936668411,
     "user": {
      "displayName": "Asad Ali",
      "photoUrl": "",
      "userId": "18153662719245913355"
     },
     "user_tz": -240
    },
    "id": "QdZVq-XDDN8Z",
    "outputId": "9408c408-7392-4266-8cc9-156fc5a87a2d"
   },
   "outputs": [
    {
     "data": {
      "image/png": "[encoded data removed]",
      "text/plain": [
       "<Figure size 576x432 with 1 Axes>"
      ]
     },
     "metadata": {
      "needs_background": "light",
      "tags": []
     },
     "output_type": "display_data"
    }
   ],
   "source": [
    "draw_hist('perimeter_sd_error')\n"
   ]
  },
  {
   "cell_type": "markdown",
   "metadata": {
    "id": "2DV2oKjfeXuO"
   },
   "source": [
    "Similar to above at around a value of 125 units of this feature it is easier to draw a classifer line to distinguish the two classes. It seems that for malignant tumour variance of concavity increases"
   ]
  },
  {
   "cell_type": "markdown",
   "metadata": {
    "id": "GfMFyg6NcSx4"
   },
   "source": [
    "# Modelling "
   ]
  },
  {
   "cell_type": "code",
   "execution_count": 16,
   "metadata": {
    "colab": {
     "base_uri": "https://localhost:8080/"
    },
    "executionInfo": {
     "elapsed": 508,
     "status": "ok",
     "timestamp": 1622937956903,
     "user": {
      "displayName": "Asad Ali",
      "photoUrl": "",
      "userId": "18153662719245913355"
     },
     "user_tz": -240
    },
    "id": "g3hTA8r-DXGl",
    "outputId": "8e656b63-aa47-4444-9bbc-833e2dd4a318"
   },
   "outputs": [
    {
     "data": {
      "text/plain": [
       "((399, 30), (399,), (170,), (170, 30))"
      ]
     },
     "execution_count": 16,
     "metadata": {
      "tags": []
     },
     "output_type": "execute_result"
    }
   ],
   "source": [
    "#variables_identified = ['concavity_worst','fractal_dimension_mean','concave_points_sd_error']\n",
    "#breast_cancer_simplified = breast_cancer[variables_identified]\n",
    "def splitter(df,no_rows): return df[:no_rows].copy(), df[no_rows:].copy()\n",
    "n_valid = int(0.3*len(breast_cancer))  \n",
    "n_trn = len(breast_cancer)-n_valid\n",
    "y = breast_cancer['diagnosis']\n",
    "#perimeter mean seems to reduce the final accuracy and hence is removed\n",
    "X = breast_cancer.drop(columns=['diagnosis','perimeter_mean'])\n",
    "X_train, X_valid = splitter(X, n_trn)\n",
    "y_train, y_valid = splitter(y, n_trn)\n",
    "X_train.shape, y_train.shape, y_valid.shape, X_valid.shape\n"
   ]
  },
  {
   "cell_type": "markdown",
   "metadata": {},
   "source": [
    "#### Now we will start creating the following models\n",
    "1. LogisticRegression\n",
    "2. Support vector machines \n",
    "3. Random Forests\n",
    "4. XGboosts"
   ]
  },
  {
   "cell_type": "code",
   "execution_count": 25,
   "metadata": {
    "colab": {
     "base_uri": "https://localhost:8080/"
    },
    "executionInfo": {
     "elapsed": 2103,
     "status": "ok",
     "timestamp": 1622938018651,
     "user": {
      "displayName": "Asad Ali",
      "photoUrl": "",
      "userId": "18153662719245913355"
     },
     "user_tz": -240
    },
    "id": "fkKtO3tqF3SH",
    "outputId": "f7805452-3cdb-410c-a871-e881c814ca9f"
   },
   "outputs": [
    {
     "name": "stdout",
     "output_type": "stream",
     "text": [
      "{'logistic': 0.6962055108126929, 'SVM': 0.6298324812812466, 'RandomForest': 0.11157053552973385, 'XGBoost': 0.04646784131605005}\n"
     ]
    }
   ],
   "source": [
    "from sklearn.linear_model import LogisticRegression\n",
    "from sklearn.naive_bayes import GaussianNB\n",
    "from sklearn.svm import SVC\n",
    "from sklearn.metrics import f1_score,log_loss,accuracy_score\n",
    "from sklearn.ensemble import RandomForestClassifier\n",
    "metrics = {}\n",
    "\n",
    "metrics['logistic']  = log_loss(y_valid,LogisticRegression(random_state=0,penalty='l2').fit(X_train, y_train).predict_proba(X_valid))\n",
    "\n",
    "metrics['SVM']  = log_loss(y_valid,SVC(gamma='auto',probability=True,C=5).fit(X_train, y_train).predict_proba(X_valid))\n",
    "\n",
    "m = RandomForestClassifier(n_jobs=-1,n_estimators=500,max_features=0.5, max_leaf_nodes=10)\n",
    "m.fit(X_train, y_train)\n",
    "valid_probs = m.predict_proba(X_valid)\n",
    "\n",
    "metrics['RandomForest'] = log_loss(y_valid, valid_probs)\n",
    "\n",
    "\n",
    "\n",
    "import xgboost as xgb\n",
    "bst = xgb.XGBClassifier(\n",
    "    max_depth=10,\\\n",
    "    n_estimators=300,\n",
    "    max_leaf_nodes=0.5,\n",
    "    reg_lambda=5,\n",
    "    learning_rate=0.4991\\\n",
    ") \n",
    "\n",
    "bst.fit(X_train,\n",
    "        y_train,\n",
    "        verbose=False,\n",
    "        eval_metric=['mlogloss'],\n",
    "\n",
    "        # multiclass logloss...\n",
    "        # already default with latest release\n",
    "        # early_stopping_rounds=10,\n",
    "        # initial attempt at early stopping, \n",
    "        # hold for now\n",
    "        )\n",
    "\n",
    "preds = bst.predict(X_valid) \n",
    "preds_sub = bst.predict_proba(X_valid)\n",
    "\n",
    "metrics['XGBoost'] = log_loss(y_valid,preds_sub)\n",
    "\n",
    "\n",
    "print(metrics)"
   ]
  },
  {
   "cell_type": "code",
   "execution_count": null,
   "metadata": {
    "id": "XQPiEGHwG8I4"
   },
   "outputs": [],
   "source": [
    "fig, axs = plt.subplots(2)\n",
    "lr = LogisticRegression(random_state=0,penalty='l2').fit(X_train, y_train)\n",
    "\n",
    "pd.Series(abs(lr.coef_[0]), index=numeric_data.columns).nlargest(10).plot(kind='barh',ax=axs[0])\n",
    "svm = SVC(gamma='auto',probability=True,C=5,kernel='linear').fit(X_train, y_train)\n",
    "pd.Series(abs(svm.coef_[0]), index=numeric_data.columns).nlargest(10).plot(kind='barh',ax=axs[1])\n"
   ]
  },
  {
   "cell_type": "code",
   "execution_count": 10,
   "metadata": {
    "colab": {
     "base_uri": "https://localhost:8080/",
     "height": 1000
    },
    "executionInfo": {
     "elapsed": 1089,
     "status": "error",
     "timestamp": 1622937875914,
     "user": {
      "displayName": "Asad Ali",
      "photoUrl": "",
      "userId": "18153662719245913355"
     },
     "user_tz": -240
    },
    "id": "0qOBRPazU2CU",
    "outputId": "f9417912-e897-44ba-d06b-37dd6f132677"
   },
   "outputs": [
    {
     "ename": "NameError",
     "evalue": "ignored",
     "output_type": "error",
     "traceback": [
      "\u001b[0;31m---------------------------------------------------------------------------\u001b[0m",
      "\u001b[0;31mNameError\u001b[0m                                 Traceback (most recent call last)",
      "\u001b[0;32m<ipython-input-10-a9a8b89130a7>\u001b[0m in \u001b[0;36m<module>\u001b[0;34m()\u001b[0m\n\u001b[1;32m      2\u001b[0m \u001b[0mfig\u001b[0m\u001b[0;34m,\u001b[0m \u001b[0max\u001b[0m \u001b[0;34m=\u001b[0m \u001b[0mplt\u001b[0m\u001b[0;34m.\u001b[0m\u001b[0msubplots\u001b[0m\u001b[0;34m(\u001b[0m\u001b[0mfigsize\u001b[0m\u001b[0;34m=\u001b[0m\u001b[0;34m(\u001b[0m\u001b[0;36m12\u001b[0m\u001b[0;34m,\u001b[0m \u001b[0;36m14\u001b[0m\u001b[0;34m)\u001b[0m\u001b[0;34m)\u001b[0m\u001b[0;34m\u001b[0m\u001b[0;34m\u001b[0m\u001b[0m\n\u001b[1;32m      3\u001b[0m \u001b[0mxgb\u001b[0m\u001b[0;34m.\u001b[0m\u001b[0mplot_importance\u001b[0m\u001b[0;34m(\u001b[0m\u001b[0mbst\u001b[0m\u001b[0;34m,\u001b[0m \u001b[0max\u001b[0m\u001b[0;34m=\u001b[0m\u001b[0max\u001b[0m\u001b[0;34m)\u001b[0m\u001b[0;34m;\u001b[0m\u001b[0;34m\u001b[0m\u001b[0;34m\u001b[0m\u001b[0m\n\u001b[0;32m----> 4\u001b[0;31m \u001b[0mfi\u001b[0m \u001b[0;34m=\u001b[0m \u001b[0mrf_feat_importance\u001b[0m\u001b[0;34m(\u001b[0m\u001b[0mm\u001b[0m\u001b[0;34m,\u001b[0m \u001b[0mX\u001b[0m\u001b[0;34m)\u001b[0m\u001b[0;34m\u001b[0m\u001b[0;34m\u001b[0m\u001b[0m\n\u001b[0m\u001b[1;32m      5\u001b[0m \u001b[0mfi\u001b[0m\u001b[0;34m.\u001b[0m\u001b[0mplot\u001b[0m\u001b[0;34m(\u001b[0m\u001b[0;34m'cols'\u001b[0m\u001b[0;34m,\u001b[0m \u001b[0;34m'imp'\u001b[0m\u001b[0;34m,\u001b[0m \u001b[0mfigsize\u001b[0m\u001b[0;34m=\u001b[0m\u001b[0;34m(\u001b[0m\u001b[0;36m10\u001b[0m\u001b[0;34m,\u001b[0m\u001b[0;36m6\u001b[0m\u001b[0;34m)\u001b[0m\u001b[0;34m,\u001b[0m \u001b[0mlegend\u001b[0m\u001b[0;34m=\u001b[0m\u001b[0;32mFalse\u001b[0m\u001b[0;34m)\u001b[0m\u001b[0;34m\u001b[0m\u001b[0;34m\u001b[0m\u001b[0m\n",
      "\u001b[0;31mNameError\u001b[0m: name 'rf_feat_importance' is not defined"
     ]
    },
    {
     "data": {
      "image/png": "[encoded data removed]",
      "text/plain": [
       "<Figure size 864x1008 with 1 Axes>"
      ]
     },
     "metadata": {
      "needs_background": "light",
      "tags": []
     },
     "output_type": "display_data"
    }
   ],
   "source": [
    "\n",
    "fig, ax = plt.subplots(figsize=(12, 14))\n",
    "xgb.plot_importance(bst, ax=ax); \n",
    "fi = rf_feat_importance(m, X)\n",
    "fi.plot('cols', 'imp', figsize=(10,6), legend=False)"
   ]
  },
  {
   "cell_type": "markdown",
   "metadata": {},
   "source": [
    "### List of features based on Random forest model importance ranking"
   ]
  },
  {
   "cell_type": "code",
   "execution_count": 291,
   "metadata": {
    "colab": {
     "base_uri": "https://localhost:8080/",
     "height": 971
    },
    "executionInfo": {
     "elapsed": 309,
     "status": "ok",
     "timestamp": 1622936539286,
     "user": {
      "displayName": "Asad Ali",
      "photoUrl": "",
      "userId": "18153662719245913355"
     },
     "user_tz": -240
    },
    "id": "QfxaoYMljkVV",
    "outputId": "c594cc7e-fb51-4a1e-9b90-797c564fd245"
   },
   "outputs": [
    {
     "data": {
      "text/html": [
       "<div>\n",
       "<style scoped>\n",
       "    .dataframe tbody tr th:only-of-type {\n",
       "        vertical-align: middle;\n",
       "    }\n",
       "\n",
       "    .dataframe tbody tr th {\n",
       "        vertical-align: top;\n",
       "    }\n",
       "\n",
       "    .dataframe thead th {\n",
       "        text-align: right;\n",
       "    }\n",
       "</style>\n",
       "<table border=\"1\" class=\"dataframe\">\n",
       "  <thead>\n",
       "    <tr style=\"text-align: right;\">\n",
       "      <th></th>\n",
       "      <th>cols</th>\n",
       "      <th>imp</th>\n",
       "    </tr>\n",
       "  </thead>\n",
       "  <tbody>\n",
       "    <tr>\n",
       "      <th>22</th>\n",
       "      <td>concave_points_sd_error</td>\n",
       "      <td>0.308047</td>\n",
       "    </tr>\n",
       "    <tr>\n",
       "      <th>27</th>\n",
       "      <td>fractal_dimension_mean</td>\n",
       "      <td>0.151598</td>\n",
       "    </tr>\n",
       "    <tr>\n",
       "      <th>23</th>\n",
       "      <td>concave_points_worst</td>\n",
       "      <td>0.126971</td>\n",
       "    </tr>\n",
       "    <tr>\n",
       "      <th>7</th>\n",
       "      <td>perimeter_sd_error</td>\n",
       "      <td>0.117933</td>\n",
       "    </tr>\n",
       "    <tr>\n",
       "      <th>20</th>\n",
       "      <td>concavity_worst</td>\n",
       "      <td>0.116313</td>\n",
       "    </tr>\n",
       "    <tr>\n",
       "      <th>26</th>\n",
       "      <td>symmetry_worst</td>\n",
       "      <td>0.022533</td>\n",
       "    </tr>\n",
       "    <tr>\n",
       "      <th>21</th>\n",
       "      <td>concave_points_mean</td>\n",
       "      <td>0.021416</td>\n",
       "    </tr>\n",
       "    <tr>\n",
       "      <th>24</th>\n",
       "      <td>symmetry_mean</td>\n",
       "      <td>0.019818</td>\n",
       "    </tr>\n",
       "    <tr>\n",
       "      <th>6</th>\n",
       "      <td>perimeter_mean</td>\n",
       "      <td>0.017394</td>\n",
       "    </tr>\n",
       "    <tr>\n",
       "      <th>1</th>\n",
       "      <td>radius_sd_error</td>\n",
       "      <td>0.016683</td>\n",
       "    </tr>\n",
       "    <tr>\n",
       "      <th>13</th>\n",
       "      <td>smoothness_sd_error</td>\n",
       "      <td>0.013967</td>\n",
       "    </tr>\n",
       "    <tr>\n",
       "      <th>28</th>\n",
       "      <td>fractal_dimension_sd_error</td>\n",
       "      <td>0.007410</td>\n",
       "    </tr>\n",
       "    <tr>\n",
       "      <th>2</th>\n",
       "      <td>radius_worst</td>\n",
       "      <td>0.006292</td>\n",
       "    </tr>\n",
       "    <tr>\n",
       "      <th>25</th>\n",
       "      <td>symmetry_sd_error</td>\n",
       "      <td>0.004910</td>\n",
       "    </tr>\n",
       "    <tr>\n",
       "      <th>3</th>\n",
       "      <td>texture_mean</td>\n",
       "      <td>0.004748</td>\n",
       "    </tr>\n",
       "    <tr>\n",
       "      <th>10</th>\n",
       "      <td>area_sd_error</td>\n",
       "      <td>0.004533</td>\n",
       "    </tr>\n",
       "    <tr>\n",
       "      <th>0</th>\n",
       "      <td>radius_mean</td>\n",
       "      <td>0.003806</td>\n",
       "    </tr>\n",
       "    <tr>\n",
       "      <th>16</th>\n",
       "      <td>compactness_sd_error</td>\n",
       "      <td>0.003720</td>\n",
       "    </tr>\n",
       "    <tr>\n",
       "      <th>29</th>\n",
       "      <td>fractal_dimension_worst</td>\n",
       "      <td>0.003676</td>\n",
       "    </tr>\n",
       "    <tr>\n",
       "      <th>12</th>\n",
       "      <td>smoothness_mean</td>\n",
       "      <td>0.003672</td>\n",
       "    </tr>\n",
       "    <tr>\n",
       "      <th>5</th>\n",
       "      <td>texture_worst</td>\n",
       "      <td>0.003602</td>\n",
       "    </tr>\n",
       "    <tr>\n",
       "      <th>4</th>\n",
       "      <td>texture_sd_error</td>\n",
       "      <td>0.003375</td>\n",
       "    </tr>\n",
       "    <tr>\n",
       "      <th>19</th>\n",
       "      <td>concavity_sd_error</td>\n",
       "      <td>0.003261</td>\n",
       "    </tr>\n",
       "    <tr>\n",
       "      <th>17</th>\n",
       "      <td>compactness_worst</td>\n",
       "      <td>0.002975</td>\n",
       "    </tr>\n",
       "    <tr>\n",
       "      <th>18</th>\n",
       "      <td>concavity_mean</td>\n",
       "      <td>0.002711</td>\n",
       "    </tr>\n",
       "    <tr>\n",
       "      <th>14</th>\n",
       "      <td>smoothness_worst</td>\n",
       "      <td>0.002201</td>\n",
       "    </tr>\n",
       "    <tr>\n",
       "      <th>11</th>\n",
       "      <td>area_worst</td>\n",
       "      <td>0.002161</td>\n",
       "    </tr>\n",
       "    <tr>\n",
       "      <th>8</th>\n",
       "      <td>perimeter_worst</td>\n",
       "      <td>0.001813</td>\n",
       "    </tr>\n",
       "    <tr>\n",
       "      <th>15</th>\n",
       "      <td>compactness_mean</td>\n",
       "      <td>0.001729</td>\n",
       "    </tr>\n",
       "    <tr>\n",
       "      <th>9</th>\n",
       "      <td>area_mean</td>\n",
       "      <td>0.000728</td>\n",
       "    </tr>\n",
       "  </tbody>\n",
       "</table>\n",
       "</div>"
      ],
      "text/plain": [
       "                          cols       imp\n",
       "22     concave_points_sd_error  0.308047\n",
       "27      fractal_dimension_mean  0.151598\n",
       "23        concave_points_worst  0.126971\n",
       "7           perimeter_sd_error  0.117933\n",
       "20             concavity_worst  0.116313\n",
       "26              symmetry_worst  0.022533\n",
       "21         concave_points_mean  0.021416\n",
       "24               symmetry_mean  0.019818\n",
       "6               perimeter_mean  0.017394\n",
       "1              radius_sd_error  0.016683\n",
       "13         smoothness_sd_error  0.013967\n",
       "28  fractal_dimension_sd_error  0.007410\n",
       "2                 radius_worst  0.006292\n",
       "25           symmetry_sd_error  0.004910\n",
       "3                 texture_mean  0.004748\n",
       "10               area_sd_error  0.004533\n",
       "0                  radius_mean  0.003806\n",
       "16        compactness_sd_error  0.003720\n",
       "29     fractal_dimension_worst  0.003676\n",
       "12             smoothness_mean  0.003672\n",
       "5                texture_worst  0.003602\n",
       "4             texture_sd_error  0.003375\n",
       "19          concavity_sd_error  0.003261\n",
       "17           compactness_worst  0.002975\n",
       "18              concavity_mean  0.002711\n",
       "14            smoothness_worst  0.002201\n",
       "11                  area_worst  0.002161\n",
       "8              perimeter_worst  0.001813\n",
       "15            compactness_mean  0.001729\n",
       "9                    area_mean  0.000728"
      ]
     },
     "execution_count": 291,
     "metadata": {
      "tags": []
     },
     "output_type": "execute_result"
    }
   ],
   "source": [
    "fi"
   ]
  },
  {
   "cell_type": "markdown",
   "metadata": {
    "id": "f-zy0wh1gh7i"
   },
   "source": [
    "Final Log Loss of the models"
   ]
  },
  {
   "cell_type": "code",
   "execution_count": 26,
   "metadata": {
    "colab": {
     "base_uri": "https://localhost:8080/"
    },
    "executionInfo": {
     "elapsed": 417,
     "status": "ok",
     "timestamp": 1622938027305,
     "user": {
      "displayName": "Asad Ali",
      "photoUrl": "",
      "userId": "18153662719245913355"
     },
     "user_tz": -240
    },
    "id": "PR4tLtsigkgV",
    "outputId": "f8e2079e-6212-4f08-ebf1-4b0c85e66811"
   },
   "outputs": [
    {
     "name": "stdout",
     "output_type": "stream",
     "text": [
      "{'logistic': 0.6962055108126929, 'SVM': 0.6298324812812466, 'RandomForest': 0.11157053552973385, 'XGBoost': 0.04646784131605005}\n",
      "final accuracy is 0.9823529411764705\n"
     ]
    }
   ],
   "source": [
    "print(metrics)\n",
    "preds = bst.predict(X_valid)\n",
    "print(f'final accuracy is {accuracy_score(preds,y_valid)}')"
   ]
  },
  {
   "cell_type": "markdown",
   "metadata": {
    "id": "uoTLwrO8etcR"
   },
   "source": [
    "### Summary of Modelling Analysis\n"
   ]
  },
  {
   "cell_type": "markdown",
   "metadata": {
    "id": "5tk347YvcskY"
   },
   "source": [
    "1. Models\n",
    "In the above analysis we have used four models to compare and contrast the performance of models with each other and on the training dataset. We have created a validation dataset to test for various hyper parameters and to check for overfitting related issues\n",
    "Models used\n",
    "i. Logistic regression\n",
    "ii. Support vector Machines\n",
    "iii. Extreme Boosted Trees\n",
    "iv. Random Forest\n",
    "\n",
    "As discussed above the performance of logistic regression was impacted by the highly correlated features in the data. However since it is a linear model and the decision boundry is non-linear it might not perform best on this dataset.\n",
    "\n",
    "Support vector Machines is also a kind of linear model but performs well when using a gaussian kernel.\n",
    "\n",
    "Ensemble learning methods such as Random Forest and XGBoost performs well.Random forest method perfoms poorly due to correlated features and less variance among features\n",
    "XGBoost performed best with the final log loss of 0.046 accuracy of 98.2%. Logistic regression performed the worst\n",
    "\n",
    "2. Loss Function\n",
    "In the above analysis log-loss or binary classifier log loss was used as a metric to determine the performance of various classifiers. \n",
    "\n",
    "3. Overfitting and model performance is controlled by comparing the trained model on train set with validation set and then tuning the hyper parameters such as L1,L2 regularization loss coeff., tree depths, splitting crieteria etc.\n",
    "\n",
    "4. Most imporant features based on XGboost\n",
    "a. concave_points_mean\n",
    "b. Smoothness_std_error\n"
   ]
  },
  {
   "cell_type": "markdown",
   "metadata": {},
   "source": [
    "### Technical Analysis"
   ]
  },
  {
   "cell_type": "markdown",
   "metadata": {
    "id": "LoQ4FjVxi20V"
   },
   "source": [
    "\n",
    "\n",
    "In the above analysis four models were used to classify the two types of tumours.\n",
    "\n",
    "Final accuracy of the classifers can improved by the following \n",
    "1. Provision of more richer features in the data-set, lesser correlated features. Overall the model was trained on the following properties of tumour\n",
    "a. radius\n",
    "b. perimeter\n",
    "c. area\n",
    "d. smoothness\n",
    "e. convaity\n",
    "f. symmetry\n",
    "g. fractal dimension\n",
    "\n",
    "\n",
    "Other features related to patient such age of the patient, type of co-related diesases can also improve the classification accuracy\n",
    "2. Higher cardinality in the feature set to allow more splitting points for the trees and less variance\n",
    "3. More training examples and larger data sets\n",
    "4. Further analysis can be performed to combine the multiple correlated features and create new and richer features for incremental gains in model log-loss score and accuracy\n",
    "5. Grid search algorithms can be used for XGBoost hyper paramater optimization for incremental further improvement in model accuracy. Mixture models on multiple classifiers can also be tried since each classifier ranks features differntly.\n",
    "6. CNN or deepnets can be used to train on images directly rather than properties of the tumour "
   ]
  },
  {
   "cell_type": "markdown",
   "metadata": {
    "id": "fk2jNNSOrqEs"
   },
   "source": [
    "In conclusion, the classification analysis for maligant tumour detection for breast cancer patients show that some factors play a significant role in the detection of malignant tumours. The following factors are of more significance\n",
    "\n",
    "1. concavity related features such as mean concavity of the tumour etc.\n",
    "2. fractal dimensions related features of the tumour\n",
    "3. std error of perimeter of the tumour"
   ]
  },
  {
   "cell_type": "markdown",
   "metadata": {},
   "source": [
    "# PART 2\n",
    "### Comments on the code are as follows"
   ]
  },
  {
   "cell_type": "markdown",
   "metadata": {},
   "source": [
    "## STUDENT RESPONSE 1"
   ]
  },
  {
   "cell_type": "code",
   "execution_count": null,
   "metadata": {},
   "outputs": [],
   "source": [
    "import pandas as pd\n",
    "import numpy as np\n",
    "from sklearn import LinearRegression\n",
    "from sklearn.cross_validation import cross_val_score\n",
    "\n",
    "# Load data\n",
    "d = pd.read_csv('../data/train.csv')\n",
    "\n",
    "\n",
    "# Setup data for prediction\n",
    "x1 = data.SalaryNormalized\n",
    "x2 = pd.get_dummies(data.ContractType)\n",
    "\n",
    "# Setup model\n",
    "model = LinearRegression()\n",
    "\n",
    "# Evaluate model\n",
    "from sklearn.cross_validation import cross_val_score\n",
    "from sklearn.cross_validation import train_test_split\n",
    "scores = cross_val_score(model, x2, x1, cv=1, scoring='mean_absolute_error')\n",
    "print(scores.mean())"
   ]
  },
  {
   "cell_type": "markdown",
   "metadata": {},
   "source": [
    "1. Code\n",
    "\n",
    "\n",
    "a.The student is importing the sklearn packages incorrectly instead of \n",
    "'from sklearn import LinearRegression'\n",
    "it should be 'from sklearn.linear_model import LinearRegression'\n",
    "\n",
    "b. variable d is never used and data is never loaded in memory\n",
    "\n",
    "c. naming conventions can be used a little better for more clarity\n",
    "\n",
    "d. further sklearn API usage mistakes in model evaluation part\n",
    "\n",
    "\n",
    "2. Methodology\n",
    "\n",
    "a. Preprocessing and data cleaning part is completely missed e.g. \n",
    "x2 = pd.get_dummies simply ignores the missing NAs found in ContractType variable. Also NAs are not handled at all\n",
    "\n",
    "b. No exploratory analysis done on the features\n",
    "\n",
    "c. One one variable is used in Modeling leading to poor score overall\n",
    "\n",
    "d. No hold out test set is used\n",
    "\n",
    "e. Other metrics such as rmse may be used for comparisons. The data may be bootstrapped for removing any temporal bias\n",
    "\n",
    "\n",
    "3. Concept understanding\n",
    "\n",
    "a. usage of 'mean_absolute_error' instead of 'neg_mean_absolute_error' which is expected since the sklearn ranks cross validations from highest to lowest in term of higher values\n",
    "\n",
    "b. CV must be greater than 1 for any cross validation to take place\n",
    "\n",
    "c. Too few variable used in the model, more models needs to be trained to create baseline performance scores. "
   ]
  },
  {
   "cell_type": "markdown",
   "metadata": {},
   "source": [
    "## STUDENT RESPONSE 2"
   ]
  },
  {
   "cell_type": "code",
   "execution_count": null,
   "metadata": {},
   "outputs": [],
   "source": [
    "import pandas as pd\n",
    "import numpy as np\n",
    "from sklearn.linear_model import LinearRegression\n",
    "from sklearn.cross_validation import cross_val_score\n",
    "\n",
    "# Load data\n",
    "data = pd.read_csv('../data/train.csv')\n",
    "\n",
    "\n",
    "# Setup data for prediction\n",
    "y = data.SalaryNormalized\n",
    "X = pd.get_dummies(data.ContractType)\n",
    "\n",
    "# Setup model\n",
    "model = LinearRegression()\n",
    "\n",
    "# Evaluate model\n",
    "scores = cross_val_score(model, X, y, cv=5, scoring='mean_absolute_error')\n",
    "print(scores.mean())"
   ]
  },
  {
   "cell_type": "markdown",
   "metadata": {},
   "source": [
    "1. Code\n",
    "\n",
    "a.The module sklearn.cross_validation is depreceated with new class of sklearn.model_selection\n",
    "\n",
    "\n",
    "b. naming conventions can be used a little better for more clarity\n",
    "\n",
    "\n",
    "\n",
    "\n",
    "2. Methodology\n",
    "\n",
    "a. Preprocessing and data cleaning part is completely missed e.g. \n",
    " pd.get_dummies simply ignores the missing NAs found in ContractType variable. Also NAs are not handled at all\n",
    "\n",
    "b. No exploratory analysis done on the features\n",
    "\n",
    "c. One one variable is used in Modeling leading to poor score overall\n",
    "\n",
    "d. No hold out test set is used\n",
    "\n",
    "e. Other metrics such as rmse may be used for comparisons. The data may be bootstrapped for removing any temporal bias\n",
    "\n",
    "\n",
    "3. Concept understanding\n",
    "\n",
    "a. usage of 'mean_absolute_error' instead of 'neg_mean_absolute_error' which is expected since the sklearn ranks cross validations from highest to lowest in term of higher values\n",
    "\n",
    "b. Too few variable used in the model, only 1 model trained, more models needs to be trained to create baseline performance scores "
   ]
  }
 ],
 "metadata": {
  "colab": {
   "authorship_tag": "ABX9TyOb5v326/VkfTTeqJL8I26h",
   "collapsed_sections": [],
   "name": "DataScienceCodeGeneralAssembly.ipynb",
   "provenance": []
  },
  "kernelspec": {
   "display_name": "Python 3",
   "language": "python",
   "name": "python3"
  },
  "language_info": {
   "codemirror_mode": {
    "name": "ipython",
    "version": 3
   },
   "file_extension": ".py",
   "mimetype": "text/x-python",
   "name": "python",
   "nbconvert_exporter": "python",
   "pygments_lexer": "ipython3",
   "version": "3.7.6"
  }
 },
 "nbformat": 4,
 "nbformat_minor": 1
}
